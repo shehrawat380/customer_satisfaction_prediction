{
 "cells": [
  {
   "cell_type": "markdown",
   "id": "27813134",
   "metadata": {},
   "source": [
    "# 02_modeling.ipynb"
   ]
  },
  {
   "cell_type": "code",
   "execution_count": null,
   "id": "ad14eaed",
   "metadata": {},
   "outputs": [],
   "source": [
    "from src.config import load_config\n",
    "from src.data_loading import read_csv, coerce_datetime\n",
    "from src.modeling import train_pipeline\n",
    "cfg = load_config('config/config.yaml')\n",
    "df = read_csv('data/sample_customer_support_tickets_small.csv')\n",
    "df = coerce_datetime(df, cfg.columns.datetime)\n",
    "pipe, metrics = train_pipeline(df, cfg)\n",
    "metrics['accuracy']"
   ]
  }
 ],
 "metadata": {},
 "nbformat": 4,
 "nbformat_minor": 5
}
