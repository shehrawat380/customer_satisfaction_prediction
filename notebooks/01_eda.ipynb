{
 "cells": [
  {
   "cell_type": "markdown",
   "id": "70494aae",
   "metadata": {},
   "source": [
    "# 01_eda.ipynb"
   ]
  },
  {
   "cell_type": "code",
   "execution_count": null,
   "id": "82789f2d",
   "metadata": {},
   "outputs": [],
   "source": [
    "import pandas as pd\n",
    "df = pd.read_csv('data/sample_customer_support_tickets_small.csv')\n",
    "df.head()"
   ]
  },
  {
   "cell_type": "code",
   "execution_count": null,
   "id": "4b78ce51",
   "metadata": {},
   "outputs": [],
   "source": [
    "df.info()"
   ]
  }
 ],
 "metadata": {},
 "nbformat": 4,
 "nbformat_minor": 5
}
